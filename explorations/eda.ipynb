{
 "cells": [
  {
   "cell_type": "markdown",
   "id": "ccbc2c59",
   "metadata": {},
   "source": [
    "# This is an EDA for the taxi dataset"
   ]
  },
  {
   "cell_type": "code",
   "execution_count": null,
   "id": "8b103718",
   "metadata": {},
   "outputs": [
    {
     "ename": "",
     "evalue": "",
     "output_type": "error",
     "traceback": [
      "\u001b[1;31mThe kernel failed to start due to the missing module 'packaging.version'. Consider installing this module.\n",
      "\u001b[1;31mClick <a href='https://aka.ms/kernelFailuresMissingModule'>here</a> for more info."
     ]
    }
   ],
   "source": [
    "import pandas as pd\n",
    "\n",
    "df = pd.read_csv(\"../src/taxipred/data/taxi_trip_pricing.csv\")"
   ]
  }
 ],
 "metadata": {
  "language_info": {
   "name": "python"
  }
 },
 "nbformat": 4,
 "nbformat_minor": 5
}
